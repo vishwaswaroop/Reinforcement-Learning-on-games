{
 "cells": [
  {
   "cell_type": "markdown",
   "metadata": {},
   "source": [
    "# 1. Getting VizDoom Up and Running"
   ]
  },
  {
   "cell_type": "code",
   "execution_count": 4,
   "metadata": {
    "tags": []
   },
   "outputs": [
    {
     "name": "stdout",
     "output_type": "stream",
     "text": [
      "Collecting vizdoomNote: you may need to restart the kernel to use updated packages.\n",
      "\n",
      "  Downloading vizdoom-1.2.3-cp38-cp38-win_amd64.whl.metadata (11 kB)\n",
      "Requirement already satisfied: numpy in c:\\users\\mvswa\\reinforcement\\.venv\\lib\\site-packages (from vizdoom) (1.24.4)\n",
      "Requirement already satisfied: gymnasium>=0.28.0 in c:\\users\\mvswa\\reinforcement\\.venv\\lib\\site-packages (from vizdoom) (0.29.1)\n",
      "Requirement already satisfied: pygame>=2.1.3 in c:\\users\\mvswa\\reinforcement\\.venv\\lib\\site-packages (from vizdoom) (2.5.2)\n",
      "Requirement already satisfied: cloudpickle>=1.2.0 in c:\\users\\mvswa\\reinforcement\\.venv\\lib\\site-packages (from gymnasium>=0.28.0->vizdoom) (1.6.0)\n",
      "Requirement already satisfied: typing-extensions>=4.3.0 in c:\\users\\mvswa\\reinforcement\\.venv\\lib\\site-packages (from gymnasium>=0.28.0->vizdoom) (4.12.1)\n",
      "Requirement already satisfied: farama-notifications>=0.0.1 in c:\\users\\mvswa\\reinforcement\\.venv\\lib\\site-packages (from gymnasium>=0.28.0->vizdoom) (0.0.4)\n",
      "Requirement already satisfied: importlib-metadata>=4.8.0 in c:\\users\\mvswa\\reinforcement\\.venv\\lib\\site-packages (from gymnasium>=0.28.0->vizdoom) (7.1.0)\n",
      "Requirement already satisfied: zipp>=0.5 in c:\\users\\mvswa\\reinforcement\\.venv\\lib\\site-packages (from importlib-metadata>=4.8.0->gymnasium>=0.28.0->vizdoom) (3.19.2)\n",
      "Downloading vizdoom-1.2.3-cp38-cp38-win_amd64.whl (15.5 MB)\n",
      "   ---------------------------------------- 0.0/15.5 MB ? eta -:--:--\n",
      "   - -------------------------------------- 0.7/15.5 MB 14.6 MB/s eta 0:00:02\n",
      "   -- ------------------------------------- 1.0/15.5 MB 13.1 MB/s eta 0:00:02\n",
      "   -- ------------------------------------- 1.0/15.5 MB 13.1 MB/s eta 0:00:02\n",
      "   -- ------------------------------------- 1.0/15.5 MB 13.1 MB/s eta 0:00:02\n",
      "   -- ------------------------------------- 1.0/15.5 MB 13.1 MB/s eta 0:00:02\n",
      "   -- ------------------------------------- 1.0/15.5 MB 13.1 MB/s eta 0:00:02\n",
      "   -- ------------------------------------- 1.0/15.5 MB 13.1 MB/s eta 0:00:02\n",
      "   -- ------------------------------------- 1.0/15.5 MB 13.1 MB/s eta 0:00:02\n",
      "   ---- ----------------------------------- 1.6/15.5 MB 3.5 MB/s eta 0:00:04\n",
      "   ----- ---------------------------------- 2.1/15.5 MB 4.3 MB/s eta 0:00:04\n",
      "   ------ --------------------------------- 2.7/15.5 MB 4.9 MB/s eta 0:00:03\n",
      "   -------- ------------------------------- 3.2/15.5 MB 5.4 MB/s eta 0:00:03\n",
      "   --------- ------------------------------ 3.8/15.5 MB 5.9 MB/s eta 0:00:02\n",
      "   ---------- ----------------------------- 4.2/15.5 MB 6.2 MB/s eta 0:00:02\n",
      "   ---------- ----------------------------- 4.2/15.5 MB 6.2 MB/s eta 0:00:02\n",
      "   ---------- ----------------------------- 4.2/15.5 MB 6.2 MB/s eta 0:00:02\n",
      "   ----------- ---------------------------- 4.3/15.5 MB 5.1 MB/s eta 0:00:03\n",
      "   ------------ --------------------------- 4.8/15.5 MB 5.5 MB/s eta 0:00:02\n",
      "   ------------- -------------------------- 5.4/15.5 MB 5.8 MB/s eta 0:00:02\n",
      "   --------------- ------------------------ 5.9/15.5 MB 6.1 MB/s eta 0:00:02\n",
      "   ---------------- ----------------------- 6.5/15.5 MB 6.4 MB/s eta 0:00:02\n",
      "   ------------------ --------------------- 7.0/15.5 MB 6.6 MB/s eta 0:00:02\n",
      "   ------------------- -------------------- 7.5/15.5 MB 6.8 MB/s eta 0:00:02\n",
      "   -------------------- ------------------- 8.1/15.5 MB 7.0 MB/s eta 0:00:02\n",
      "   ---------------------- ----------------- 8.6/15.5 MB 7.1 MB/s eta 0:00:01\n",
      "   ----------------------- ---------------- 9.2/15.5 MB 7.3 MB/s eta 0:00:01\n",
      "   ------------------------- -------------- 9.7/15.5 MB 7.5 MB/s eta 0:00:01\n",
      "   -------------------------- ------------- 10.3/15.5 MB 7.6 MB/s eta 0:00:01\n",
      "   --------------------------- ------------ 10.5/15.5 MB 7.6 MB/s eta 0:00:01\n",
      "   --------------------------- ------------ 10.5/15.5 MB 7.6 MB/s eta 0:00:01\n",
      "   --------------------------- ------------ 10.5/15.5 MB 7.6 MB/s eta 0:00:01\n",
      "   --------------------------- ------------ 10.5/15.5 MB 7.6 MB/s eta 0:00:01\n",
      "   --------------------------- ------------ 10.5/15.5 MB 7.6 MB/s eta 0:00:01\n",
      "   ---------------------------- ----------- 11.0/15.5 MB 6.6 MB/s eta 0:00:01\n",
      "   ----------------------------- ---------- 11.6/15.5 MB 8.3 MB/s eta 0:00:01\n",
      "   ------------------------------- -------- 12.1/15.5 MB 8.3 MB/s eta 0:00:01\n",
      "   -------------------------------- ------- 12.6/15.5 MB 8.3 MB/s eta 0:00:01\n",
      "   -------------------------------- ------- 12.6/15.5 MB 8.3 MB/s eta 0:00:01\n",
      "   -------------------------------- ------- 12.6/15.5 MB 8.3 MB/s eta 0:00:01\n",
      "   -------------------------------- ------- 12.6/15.5 MB 8.3 MB/s eta 0:00:01\n",
      "   -------------------------------- ------- 12.6/15.5 MB 8.3 MB/s eta 0:00:01\n",
      "   --------------------------------- ------ 12.8/15.5 MB 7.1 MB/s eta 0:00:01\n",
      "   ---------------------------------- ----- 13.4/15.5 MB 7.1 MB/s eta 0:00:01\n",
      "   ------------------------------------ --- 14.1/15.5 MB 7.1 MB/s eta 0:00:01\n",
      "   -------------------------------------- - 14.8/15.5 MB 7.9 MB/s eta 0:00:01\n",
      "   ---------------------------------------  15.5/15.5 MB 7.8 MB/s eta 0:00:01\n",
      "   ---------------------------------------- 15.5/15.5 MB 7.5 MB/s eta 0:00:00\n",
      "Installing collected packages: vizdoom\n",
      "Successfully installed vizdoom-1.2.3\n"
     ]
    }
   ],
   "source": [
    "%pip install vizdoom"
   ]
  },
  {
   "cell_type": "code",
   "execution_count": 3,
   "metadata": {},
   "outputs": [
    {
     "name": "stderr",
     "output_type": "stream",
     "text": [
      "Cloning into 'ViZDoom'...\n",
      "Updating files:  27% (575/2062)\n",
      "Updating files:  28% (578/2062)\n",
      "Updating files:  29% (598/2062)\n",
      "Updating files:  30% (619/2062)\n",
      "Updating files:  31% (640/2062)\n",
      "Updating files:  32% (660/2062)\n",
      "Updating files:  33% (681/2062)\n",
      "Updating files:  34% (702/2062)\n",
      "Updating files:  35% (722/2062)\n",
      "Updating files:  36% (743/2062)\n",
      "Updating files:  37% (763/2062)\n",
      "Updating files:  38% (784/2062)\n",
      "Updating files:  39% (805/2062)\n",
      "Updating files:  40% (825/2062)\n",
      "Updating files:  41% (846/2062)\n",
      "Updating files:  42% (867/2062)\n",
      "Updating files:  43% (887/2062)\n",
      "Updating files:  44% (908/2062)\n",
      "Updating files:  45% (928/2062)\n",
      "Updating files:  46% (949/2062)\n",
      "Updating files:  47% (970/2062)\n",
      "Updating files:  48% (990/2062)\n",
      "Updating files:  49% (1011/2062)\n",
      "Updating files:  50% (1031/2062)\n",
      "Updating files:  51% (1052/2062)\n",
      "Updating files:  52% (1073/2062)\n",
      "Updating files:  53% (1093/2062)\n",
      "Updating files:  54% (1114/2062)\n",
      "Updating files:  55% (1135/2062)\n",
      "Updating files:  56% (1155/2062)\n",
      "Updating files:  57% (1176/2062)\n",
      "Updating files:  58% (1196/2062)\n",
      "Updating files:  59% (1217/2062)\n",
      "Updating files:  60% (1238/2062)\n",
      "Updating files:  61% (1258/2062)\n",
      "Updating files:  62% (1279/2062)\n",
      "Updating files:  63% (1300/2062)\n",
      "Updating files:  64% (1320/2062)\n",
      "Updating files:  65% (1341/2062)\n",
      "Updating files:  66% (1361/2062)\n",
      "Updating files:  67% (1382/2062)\n",
      "Updating files:  67% (1390/2062)\n",
      "Updating files:  68% (1403/2062)\n",
      "Updating files:  69% (1423/2062)\n",
      "Updating files:  70% (1444/2062)\n",
      "Updating files:  71% (1465/2062)\n",
      "Updating files:  72% (1485/2062)\n",
      "Updating files:  73% (1506/2062)\n",
      "Updating files:  74% (1526/2062)\n",
      "Updating files:  75% (1547/2062)\n",
      "Updating files:  76% (1568/2062)\n",
      "Updating files:  77% (1588/2062)\n",
      "Updating files:  78% (1609/2062)\n",
      "Updating files:  79% (1629/2062)\n",
      "Updating files:  80% (1650/2062)\n",
      "Updating files:  81% (1671/2062)\n",
      "Updating files:  82% (1691/2062)\n",
      "Updating files:  83% (1712/2062)\n",
      "Updating files:  84% (1733/2062)\n",
      "Updating files:  85% (1753/2062)\n",
      "Updating files:  86% (1774/2062)\n",
      "Updating files:  87% (1794/2062)\n",
      "Updating files:  88% (1815/2062)\n",
      "Updating files:  89% (1836/2062)\n",
      "Updating files:  90% (1856/2062)\n",
      "Updating files:  91% (1877/2062)\n",
      "Updating files:  92% (1898/2062)\n",
      "Updating files:  93% (1918/2062)\n",
      "Updating files:  94% (1939/2062)\n",
      "Updating files:  95% (1959/2062)\n",
      "Updating files:  96% (1980/2062)\n",
      "Updating files:  97% (2001/2062)\n",
      "Updating files:  98% (2021/2062)\n",
      "Updating files:  99% (2042/2062)\n",
      "Updating files: 100% (2062/2062)\n",
      "Updating files: 100% (2062/2062), done.\n"
     ]
    }
   ],
   "source": [
    "!git clone https://github.com/mwydmuch/ViZDoom"
   ]
  },
  {
   "cell_type": "code",
   "execution_count": 2,
   "metadata": {},
   "outputs": [],
   "source": [
    "# Import vizdoom for game env\n",
    "from vizdoom import *\n",
    "# Import random for action sampling\n",
    "import random\n",
    "# Import time for sleeping\n",
    "import time \n",
    "# Import numpy for identity matrix\n",
    "import numpy as np"
   ]
  },
  {
   "cell_type": "code",
   "execution_count": 2,
   "metadata": {},
   "outputs": [],
   "source": [
    "# Setup game\n",
    "game = DoomGame()\n",
    "game.load_config('VizDoom/scenarios/basic.cfg')\n",
    "game.init()"
   ]
  },
  {
   "cell_type": "code",
   "execution_count": 12,
   "metadata": {},
   "outputs": [],
   "source": [
    "# This is the set of actions we can take in the environment\n",
    "actions = np.identity(3, dtype=np.uint8)"
   ]
  },
  {
   "cell_type": "code",
   "execution_count": 13,
   "metadata": {},
   "outputs": [
    {
     "data": {
      "text/plain": [
       "array([[1, 0, 0],\n",
       "       [0, 1, 0],\n",
       "       [0, 0, 1]], dtype=uint8)"
      ]
     },
     "execution_count": 13,
     "metadata": {},
     "output_type": "execute_result"
    }
   ],
   "source": [
    "actions"
   ]
  },
  {
   "cell_type": "code",
   "execution_count": 29,
   "metadata": {},
   "outputs": [],
   "source": [
    "state = game.get_state()"
   ]
  },
  {
   "cell_type": "code",
   "execution_count": 31,
   "metadata": {},
   "outputs": [],
   "source": [
    "state"
   ]
  },
  {
   "cell_type": "code",
   "execution_count": 21,
   "metadata": {},
   "outputs": [
    {
     "data": {
      "text/plain": [
       "array([50.])"
      ]
     },
     "execution_count": 21,
     "metadata": {},
     "output_type": "execute_result"
    }
   ],
   "source": [
    "state.game_variables"
   ]
  },
  {
   "cell_type": "code",
   "execution_count": 36,
   "metadata": {
    "tags": []
   },
   "outputs": [
    {
     "name": "stdout",
     "output_type": "stream",
     "text": [
      "reward: -4.0\n",
      "reward: 99.0\n",
      "Result: 95.0\n",
      "reward: -4.0\n",
      "reward: 99.0\n",
      "Result: 95.0\n",
      "reward: -4.0\n",
      "reward: -4.0\n",
      "reward: 99.0\n",
      "Result: 91.0\n"
     ]
    }
   ],
   "source": [
    "# Loop through episodes \n",
    "episodes = 10 \n",
    "for episode in range(3): \n",
    "    # Create a new episode or game \n",
    "    game.new_episode()\n",
    "    # Check the game isn't done \n",
    "    while not game.is_episode_finished(): \n",
    "        # Get the game state \n",
    "        state = game.get_state()\n",
    "        # Get the game image \n",
    "        img = state.screen_buffer\n",
    "        # Get the game variables - ammo\n",
    "        info = state.game_variables\n",
    "        # Take an action\n",
    "        reward = game.make_action(random.choice(actions),4)\n",
    "        # Print rewward \n",
    "        print('reward:', reward) \n",
    "        time.sleep(0.02)\n",
    "    print('Result:', game.get_total_reward())\n",
    "    time.sleep(2)"
   ]
  },
  {
   "cell_type": "code",
   "execution_count": 3,
   "metadata": {},
   "outputs": [],
   "source": [
    "game.close()"
   ]
  },
  {
   "cell_type": "markdown",
   "metadata": {
    "tags": []
   },
   "source": [
    "# 2. Converting it to a Gym Environment"
   ]
  },
  {
   "cell_type": "code",
   "execution_count": 25,
   "metadata": {
    "tags": []
   },
   "outputs": [
    {
     "name": "stdout",
     "output_type": "stream",
     "text": [
      "Requirement already satisfied: gym in c:\\users\\mvswa\\reinforcement\\.venv\\lib\\site-packages (0.17.3)Note: you may need to restart the kernel to use updated packages.\n",
      "\n",
      "Requirement already satisfied: scipy in c:\\users\\mvswa\\reinforcement\\.venv\\lib\\site-packages (from gym) (1.10.1)\n",
      "Requirement already satisfied: numpy>=1.10.4 in c:\\users\\mvswa\\reinforcement\\.venv\\lib\\site-packages (from gym) (1.24.4)\n",
      "Requirement already satisfied: pyglet<=1.5.0,>=1.4.0 in c:\\users\\mvswa\\reinforcement\\.venv\\lib\\site-packages (from gym) (1.5.0)\n",
      "Requirement already satisfied: cloudpickle<1.7.0,>=1.2.0 in c:\\users\\mvswa\\reinforcement\\.venv\\lib\\site-packages (from gym) (1.6.0)\n",
      "Requirement already satisfied: future in c:\\users\\mvswa\\reinforcement\\.venv\\lib\\site-packages (from pyglet<=1.5.0,>=1.4.0->gym) (1.0.0)\n"
     ]
    }
   ],
   "source": [
    "%pip install gym"
   ]
  },
  {
   "cell_type": "code",
   "execution_count": 3,
   "metadata": {},
   "outputs": [],
   "source": [
    "# Import environment base class from OpenAI Gym\n",
    "from gym import Env\n",
    "# Import gym spaces \n",
    "from gym.spaces import Discrete, Box\n",
    "# Import opencv \n",
    "import cv2"
   ]
  },
  {
   "cell_type": "code",
   "execution_count": 43,
   "metadata": {},
   "outputs": [
    {
     "data": {
      "text/plain": [
       "array([[[35, 39, 39, ..., 39, 39, 39],\n",
       "        [59, 67, 59, ..., 67, 67, 91],\n",
       "        [79, 79, 79, ..., 79, 91, 91],\n",
       "        ...,\n",
       "        [19, 19, 11, ..., 47, 47, 55],\n",
       "        [19, 27, 19, ..., 47, 47, 47],\n",
       "        [11, 19, 19, ..., 27, 19, 19]],\n",
       "\n",
       "       [[35, 39, 39, ..., 39, 39, 39],\n",
       "        [59, 67, 59, ..., 67, 67, 91],\n",
       "        [79, 79, 79, ..., 79, 91, 91],\n",
       "        ...,\n",
       "        [19, 19, 11, ..., 47, 47, 55],\n",
       "        [19, 27, 19, ..., 47, 47, 47],\n",
       "        [11, 19, 19, ..., 27, 19, 19]],\n",
       "\n",
       "       [[35, 39, 39, ..., 39, 39, 39],\n",
       "        [59, 67, 59, ..., 67, 67, 91],\n",
       "        [79, 79, 79, ..., 79, 91, 91],\n",
       "        ...,\n",
       "        [19, 19, 11, ..., 47, 47, 55],\n",
       "        [19, 27, 19, ..., 47, 47, 47],\n",
       "        [11, 19, 19, ..., 27, 19, 19]]], dtype=uint8)"
      ]
     },
     "execution_count": 43,
     "metadata": {},
     "output_type": "execute_result"
    }
   ],
   "source": [
    "game.get_state().screen_buffer"
   ]
  },
  {
   "cell_type": "code",
   "execution_count": 55,
   "metadata": {},
   "outputs": [
    {
     "data": {
      "text/plain": [
       "3"
      ]
     },
     "execution_count": 55,
     "metadata": {},
     "output_type": "execute_result"
    }
   ],
   "source": [
    "len(np.identity(3))"
   ]
  },
  {
   "cell_type": "code",
   "execution_count": 5,
   "metadata": {},
   "outputs": [],
   "source": [
    "# Create Vizdoom OpenAI Gym Environment\n",
    "class VizDoomGym(Env): \n",
    "    # Function that is called when we start the env\n",
    "    def __init__(self, render=False): \n",
    "        # Inherit from Env\n",
    "        super().__init__()\n",
    "        # Setup the game \n",
    "        self.game = DoomGame()\n",
    "        self.game.load_config('VizDoom/scenarios/basic.cfg')\n",
    "        \n",
    "        # Render frame logic\n",
    "        if render == False: \n",
    "            self.game.set_window_visible(False)\n",
    "        else:\n",
    "            self.game.set_window_visible(True)\n",
    "        \n",
    "        # Start the game \n",
    "        self.game.init()\n",
    "        \n",
    "        # Create the action space and observation space\n",
    "        # self.observation_space = Box(low=0, high=255, shape=(100,160,1), dtype=np.uint8) \n",
    "        # self.action_space = Discrete(3)\n",
    "        \n",
    "    # This is how we take a step in the environment\n",
    "    def step(self, action):\n",
    "        # Specify action and take step \n",
    "        actions = np.identity(3)\n",
    "        reward = self.game.make_action(actions[action], 4) \n",
    "        \n",
    "        # Get all the other stuff we need to retun \n",
    "        if self.game.get_state(): \n",
    "            state = self.game.get_state().screen_buffer\n",
    "            state = self.grayscale(state)\n",
    "            ammo = self.game.get_state().game_variables[0]\n",
    "            info = ammo\n",
    "        else: \n",
    "            state = np.zeros(self.observation_space.shape)\n",
    "            info = 0 \n",
    "        \n",
    "        info = {\"info\":info}\n",
    "        done = self.game.is_episode_finished()\n",
    "        \n",
    "        return state, reward, done, info \n",
    "    \n",
    "    # Define how to render the game or environment \n",
    "    def render(): \n",
    "        pass\n",
    "    \n",
    "    # What happens when we start a new game \n",
    "    def reset(self): \n",
    "        self.game.new_episode()\n",
    "        state = self.game.get_state().screen_buffer\n",
    "        return self.grayscale(state)\n",
    "    \n",
    "    # Grayscale the game frame and resize it \n",
    "    def grayscale(self, observation):\n",
    "        gray = cv2.cvtColor(np.moveaxis(observation, 0, -1), cv2.COLOR_BGR2GRAY)\n",
    "        resize = cv2.resize(gray, (160,100), interpolation=cv2.INTER_CUBIC)\n",
    "        state = np.reshape(resize, (100,160,1))\n",
    "        return state\n",
    "    \n",
    "    # Call to close down the game\n",
    "    def close(self): \n",
    "        self.game.close()"
   ]
  },
  {
   "cell_type": "code",
   "execution_count": 6,
   "metadata": {},
   "outputs": [],
   "source": [
    "env = VizDoomGym(render=True)"
   ]
  },
  {
   "cell_type": "code",
   "execution_count": 7,
   "metadata": {},
   "outputs": [],
   "source": [
    "state = env.reset()"
   ]
  },
  {
   "cell_type": "markdown",
   "metadata": {
    "jupyter": {
     "source_hidden": true
    },
    "tags": []
   },
   "source": [
    "# 3. View Game State"
   ]
  },
  {
   "cell_type": "code",
   "execution_count": null,
   "metadata": {
    "tags": []
   },
   "outputs": [],
   "source": [
    "env.reset()"
   ]
  },
  {
   "cell_type": "code",
   "execution_count": 61,
   "metadata": {},
   "outputs": [],
   "source": [
    "env.close()"
   ]
  },
  {
   "cell_type": "code",
   "execution_count": 6,
   "metadata": {},
   "outputs": [],
   "source": [
    "# Import Environment checker\n",
    "from stable_baselines3.common import env_checker"
   ]
  },
  {
   "cell_type": "code",
   "execution_count": null,
   "metadata": {},
   "outputs": [],
   "source": [
    "env_checker.check_env(env)"
   ]
  },
  {
   "cell_type": "markdown",
   "metadata": {},
   "source": [
    "# 3. View State"
   ]
  },
  {
   "cell_type": "code",
   "execution_count": 73,
   "metadata": {
    "tags": []
   },
   "outputs": [
    {
     "name": "stdout",
     "output_type": "stream",
     "text": [
      "Requirement already satisfied: matplotlib in c:\\users\\mvswa\\reinforcement\\.venv\\lib\\site-packages (3.7.5)\n",
      "Requirement already satisfied: contourpy>=1.0.1 in c:\\users\\mvswa\\reinforcement\\.venv\\lib\\site-packages (from matplotlib) (1.1.1)\n",
      "Requirement already satisfied: cycler>=0.10 in c:\\users\\mvswa\\reinforcement\\.venv\\lib\\site-packages (from matplotlib) (0.12.1)\n",
      "Requirement already satisfied: fonttools>=4.22.0 in c:\\users\\mvswa\\reinforcement\\.venv\\lib\\site-packages (from matplotlib) (4.53.0)\n",
      "Requirement already satisfied: kiwisolver>=1.0.1 in c:\\users\\mvswa\\reinforcement\\.venv\\lib\\site-packages (from matplotlib) (1.4.5)\n",
      "Requirement already satisfied: numpy<2,>=1.20 in c:\\users\\mvswa\\reinforcement\\.venv\\lib\\site-packages (from matplotlib) (1.24.4)\n",
      "Requirement already satisfied: packaging>=20.0 in c:\\users\\mvswa\\reinforcement\\.venv\\lib\\site-packages (from matplotlib) (24.0)\n",
      "Requirement already satisfied: pillow>=6.2.0 in c:\\users\\mvswa\\reinforcement\\.venv\\lib\\site-packages (from matplotlib) (10.2.0)\n",
      "Requirement already satisfied: pyparsing>=2.3.1 in c:\\users\\mvswa\\reinforcement\\.venv\\lib\\site-packages (from matplotlib) (3.1.2)\n",
      "Requirement already satisfied: python-dateutil>=2.7 in c:\\users\\mvswa\\reinforcement\\.venv\\lib\\site-packages (from matplotlib) (2.9.0.post0)\n",
      "Requirement already satisfied: importlib-resources>=3.2.0 in c:\\users\\mvswa\\reinforcement\\.venv\\lib\\site-packages (from matplotlib) (6.4.0)\n",
      "Requirement already satisfied: zipp>=3.1.0 in c:\\users\\mvswa\\reinforcement\\.venv\\lib\\site-packages (from importlib-resources>=3.2.0->matplotlib) (3.19.2)\n",
      "Requirement already satisfied: six>=1.5 in c:\\users\\mvswa\\reinforcement\\.venv\\lib\\site-packages (from python-dateutil>=2.7->matplotlib) (1.16.0)\n",
      "Note: you may need to restart the kernel to use updated packages.\n"
     ]
    }
   ],
   "source": [
    "%pip install matplotlib"
   ]
  },
  {
   "cell_type": "code",
   "execution_count": 7,
   "metadata": {},
   "outputs": [],
   "source": [
    "from matplotlib import pyplot as plt"
   ]
  },
  {
   "cell_type": "code",
   "execution_count": 77,
   "metadata": {},
   "outputs": [
    {
     "data": {
      "text/plain": [
       "<matplotlib.image.AxesImage at 0x29b8d5f5160>"
      ]
     },
     "execution_count": 77,
     "metadata": {},
     "output_type": "execute_result"
    },
    {
     "data": {
      "image/png": "[encoded data removed]",
      "text/plain": [
       "<Figure size 640x480 with 1 Axes>"
      ]
     },
     "metadata": {},
     "output_type": "display_data"
    }
   ],
   "source": [
    "plt.imshow(cv2.cvtColor(state, cv2.COLOR_BGR2RGB))"
   ]
  },
  {
   "cell_type": "markdown",
   "metadata": {},
   "source": [
    "# 4. Setup Callback"
   ]
  },
  {
   "cell_type": "code",
   "execution_count": 87,
   "metadata": {
    "tags": []
   },
   "outputs": [
    {
     "name": "stdout",
     "output_type": "stream",
     "text": [
      "Looking in indexes: https://download.pytorch.org/whl/cu121\n",
      "Requirement already satisfied: torch in c:\\users\\mvswa\\reinforcement\\.venv\\lib\\site-packages (2.3.1+cu121)\n",
      "Requirement already satisfied: torchvision in c:\\users\\mvswa\\reinforcement\\.venv\\lib\\site-packages (0.11.2+cu113)\n",
      "Requirement already satisfied: torchaudio in c:\\users\\mvswa\\reinforcement\\.venv\\lib\\site-packages (0.10.1+cu113)\n",
      "Requirement already satisfied: filelock in c:\\users\\mvswa\\reinforcement\\.venv\\lib\\site-packages (from torch) (3.13.1)\n",
      "Requirement already satisfied: typing-extensions>=4.8.0 in c:\\users\\mvswa\\reinforcement\\.venv\\lib\\site-packages (from torch) (4.12.1)\n",
      "Requirement already satisfied: sympy in c:\\users\\mvswa\\reinforcement\\.venv\\lib\\site-packages (from torch) (1.12)\n",
      "Requirement already satisfied: networkx in c:\\users\\mvswa\\reinforcement\\.venv\\lib\\site-packages (from torch) (3.0)\n",
      "Requirement already satisfied: jinja2 in c:\\users\\mvswa\\reinforcement\\.venv\\lib\\site-packages (from torch) (3.1.3)\n",
      "Requirement already satisfied: fsspec in c:\\users\\mvswa\\reinforcement\\.venv\\lib\\site-packages (from torch) (2024.2.0)\n",
      "Requirement already satisfied: mkl<=2021.4.0,>=2021.1.1 in c:\\users\\mvswa\\reinforcement\\.venv\\lib\\site-packages (from torch) (2021.4.0)\n",
      "Requirement already satisfied: numpy in c:\\users\\mvswa\\reinforcement\\.venv\\lib\\site-packages (from torchvision) (1.24.4)\n",
      "INFO: pip is looking at multiple versions of torchvision to determine which version is compatible with other requirements. This could take a while.\n",
      "Collecting torchvision\n",
      "  Using cached https://download.pytorch.org/whl/cu121/torchvision-0.18.1%2Bcu121-cp38-cp38-win_amd64.whl (5.7 MB)\n",
      "Requirement already satisfied: pillow!=8.3.*,>=5.3.0 in c:\\users\\mvswa\\reinforcement\\.venv\\lib\\site-packages (from torchvision) (10.2.0)\n",
      "INFO: pip is looking at multiple versions of torchaudio to determine which version is compatible with other requirements. This could take a while.\n",
      "Collecting torchaudio\n",
      "  Using cached https://download.pytorch.org/whl/cu121/torchaudio-2.3.1%2Bcu121-cp38-cp38-win_amd64.whl (4.1 MB)\n",
      "Requirement already satisfied: intel-openmp==2021.* in c:\\users\\mvswa\\reinforcement\\.venv\\lib\\site-packages (from mkl<=2021.4.0,>=2021.1.1->torch) (2021.4.0)\n",
      "Requirement already satisfied: tbb==2021.* in c:\\users\\mvswa\\reinforcement\\.venv\\lib\\site-packages (from mkl<=2021.4.0,>=2021.1.1->torch) (2021.11.0)\n",
      "Requirement already satisfied: MarkupSafe>=2.0 in c:\\users\\mvswa\\reinforcement\\.venv\\lib\\site-packages (from jinja2->torch) (2.1.5)\n",
      "Requirement already satisfied: mpmath>=0.19 in c:\\users\\mvswa\\reinforcement\\.venv\\lib\\site-packages (from sympy->torch) (1.3.0)\n",
      "Installing collected packages: torchvision, torchaudio\n",
      "  Attempting uninstall: torchvision\n",
      "    Found existing installation: torchvision 0.11.2+cu113\n",
      "    Uninstalling torchvision-0.11.2+cu113:\n",
      "      Successfully uninstalled torchvision-0.11.2+cu113\n",
      "  Attempting uninstall: torchaudio\n",
      "    Found existing installation: torchaudio 0.10.1+cu113\n",
      "    Uninstalling torchaudio-0.10.1+cu113:\n",
      "      Successfully uninstalled torchaudio-0.10.1+cu113\n",
      "Successfully installed torchaudio-2.3.1+cu121 torchvision-0.18.1+cu121\n",
      "Note: you may need to restart the kernel to use updated packages.\n"
     ]
    }
   ],
   "source": [
    "%pip install torch torchvision torchaudio --index-url https://download.pytorch.org/whl/cu121"
   ]
  },
  {
   "cell_type": "code",
   "execution_count": 78,
   "metadata": {
    "tags": []
   },
   "outputs": [
    {
     "name": "stdout",
     "output_type": "stream",
     "text": [
      "Requirement already satisfied: stable-baselines3[extra] in c:\\users\\mvswa\\reinforcement\\.venv\\lib\\site-packages (2.3.2)\n",
      "Requirement already satisfied: gymnasium<0.30,>=0.28.1 in c:\\users\\mvswa\\reinforcement\\.venv\\lib\\site-packages (from stable-baselines3[extra]) (0.29.1)\n",
      "Requirement already satisfied: numpy>=1.20 in c:\\users\\mvswa\\reinforcement\\.venv\\lib\\site-packages (from stable-baselines3[extra]) (1.24.4)\n",
      "Requirement already satisfied: torch>=1.13 in c:\\users\\mvswa\\reinforcement\\.venv\\lib\\site-packages (from stable-baselines3[extra]) (2.3.1+cu121)\n",
      "Requirement already satisfied: cloudpickle in c:\\users\\mvswa\\reinforcement\\.venv\\lib\\site-packages (from stable-baselines3[extra]) (1.6.0)\n",
      "Requirement already satisfied: pandas in c:\\users\\mvswa\\reinforcement\\.venv\\lib\\site-packages (from stable-baselines3[extra]) (2.0.3)\n",
      "Requirement already satisfied: matplotlib in c:\\users\\mvswa\\reinforcement\\.venv\\lib\\site-packages (from stable-baselines3[extra]) (3.7.5)\n",
      "Requirement already satisfied: opencv-python in c:\\users\\mvswa\\reinforcement\\.venv\\lib\\site-packages (from stable-baselines3[extra]) (4.10.0.82)\n",
      "Requirement already satisfied: pygame in c:\\users\\mvswa\\reinforcement\\.venv\\lib\\site-packages (from stable-baselines3[extra]) (2.5.2)\n",
      "Requirement already satisfied: tensorboard>=2.9.1 in c:\\users\\mvswa\\reinforcement\\.venv\\lib\\site-packages (from stable-baselines3[extra]) (2.14.0)\n",
      "Requirement already satisfied: psutil in c:\\users\\mvswa\\reinforcement\\.venv\\lib\\site-packages (from stable-baselines3[extra]) (5.9.8)\n",
      "Requirement already satisfied: tqdm in c:\\users\\mvswa\\reinforcement\\.venv\\lib\\site-packages (from stable-baselines3[extra]) (4.66.4)\n",
      "Requirement already satisfied: rich in c:\\users\\mvswa\\reinforcement\\.venv\\lib\\site-packages (from stable-baselines3[extra]) (13.7.1)\n",
      "Requirement already satisfied: shimmy~=1.3.0 in c:\\users\\mvswa\\reinforcement\\.venv\\lib\\site-packages (from shimmy[atari]~=1.3.0; extra == \"extra\"->stable-baselines3[extra]) (1.3.0)\n",
      "Requirement already satisfied: pillow in c:\\users\\mvswa\\reinforcement\\.venv\\lib\\site-packages (from stable-baselines3[extra]) (10.2.0)\n",
      "Requirement already satisfied: autorom~=0.6.1 in c:\\users\\mvswa\\reinforcement\\.venv\\lib\\site-packages (from autorom[accept-rom-license]~=0.6.1; extra == \"extra\"->stable-baselines3[extra]) (0.6.1)\n",
      "Requirement already satisfied: click in c:\\users\\mvswa\\reinforcement\\.venv\\lib\\site-packages (from autorom~=0.6.1->autorom[accept-rom-license]~=0.6.1; extra == \"extra\"->stable-baselines3[extra]) (8.1.7)\n",
      "Requirement already satisfied: requests in c:\\users\\mvswa\\reinforcement\\.venv\\lib\\site-packages (from autorom~=0.6.1->autorom[accept-rom-license]~=0.6.1; extra == \"extra\"->stable-baselines3[extra]) (2.32.3)\n",
      "Requirement already satisfied: importlib-resources in c:\\users\\mvswa\\reinforcement\\.venv\\lib\\site-packages (from autorom~=0.6.1->autorom[accept-rom-license]~=0.6.1; extra == \"extra\"->stable-baselines3[extra]) (6.4.0)\n",
      "Requirement already satisfied: AutoROM.accept-rom-license in c:\\users\\mvswa\\reinforcement\\.venv\\lib\\site-packages (from autorom[accept-rom-license]~=0.6.1; extra == \"extra\"->stable-baselines3[extra]) (0.6.1)\n",
      "Requirement already satisfied: typing-extensions>=4.3.0 in c:\\users\\mvswa\\reinforcement\\.venv\\lib\\site-packages (from gymnasium<0.30,>=0.28.1->stable-baselines3[extra]) (4.12.1)\n",
      "Requirement already satisfied: farama-notifications>=0.0.1 in c:\\users\\mvswa\\reinforcement\\.venv\\lib\\site-packages (from gymnasium<0.30,>=0.28.1->stable-baselines3[extra]) (0.0.4)\n",
      "Requirement already satisfied: importlib-metadata>=4.8.0 in c:\\users\\mvswa\\reinforcement\\.venv\\lib\\site-packages (from gymnasium<0.30,>=0.28.1->stable-baselines3[extra]) (7.1.0)\n",
      "Requirement already satisfied: ale-py~=0.8.1 in c:\\users\\mvswa\\reinforcement\\.venv\\lib\\site-packages (from shimmy[atari]~=1.3.0; extra == \"extra\"->stable-baselines3[extra]) (0.8.1)\n",
      "Requirement already satisfied: absl-py>=0.4 in c:\\users\\mvswa\\reinforcement\\.venv\\lib\\site-packages (from tensorboard>=2.9.1->stable-baselines3[extra]) (2.1.0)\n",
      "Requirement already satisfied: grpcio>=1.48.2 in c:\\users\\mvswa\\reinforcement\\.venv\\lib\\site-packages (from tensorboard>=2.9.1->stable-baselines3[extra]) (1.64.1)\n",
      "Requirement already satisfied: google-auth<3,>=1.6.3 in c:\\users\\mvswa\\reinforcement\\.venv\\lib\\site-packages (from tensorboard>=2.9.1->stable-baselines3[extra]) (2.29.0)\n",
      "Requirement already satisfied: google-auth-oauthlib<1.1,>=0.5 in c:\\users\\mvswa\\reinforcement\\.venv\\lib\\site-packages (from tensorboard>=2.9.1->stable-baselines3[extra]) (1.0.0)\n",
      "Requirement already satisfied: markdown>=2.6.8 in c:\\users\\mvswa\\reinforcement\\.venv\\lib\\site-packages (from tensorboard>=2.9.1->stable-baselines3[extra]) (3.6)\n",
      "Requirement already satisfied: protobuf>=3.19.6 in c:\\users\\mvswa\\reinforcement\\.venv\\lib\\site-packages (from tensorboard>=2.9.1->stable-baselines3[extra]) (5.27.1)\n",
      "Requirement already satisfied: setuptools>=41.0.0 in c:\\users\\mvswa\\reinforcement\\.venv\\lib\\site-packages (from tensorboard>=2.9.1->stable-baselines3[extra]) (65.5.0)\n",
      "Requirement already satisfied: tensorboard-data-server<0.8.0,>=0.7.0 in c:\\users\\mvswa\\reinforcement\\.venv\\lib\\site-packages (from tensorboard>=2.9.1->stable-baselines3[extra]) (0.7.2)\n",
      "Requirement already satisfied: werkzeug>=1.0.1 in c:\\users\\mvswa\\reinforcement\\.venv\\lib\\site-packages (from tensorboard>=2.9.1->stable-baselines3[extra]) (3.0.3)\n",
      "Requirement already satisfied: wheel>=0.26 in c:\\users\\mvswa\\reinforcement\\.venv\\lib\\site-packages (from tensorboard>=2.9.1->stable-baselines3[extra]) (0.38.4)\n",
      "Requirement already satisfied: filelock in c:\\users\\mvswa\\reinforcement\\.venv\\lib\\site-packages (from torch>=1.13->stable-baselines3[extra]) (3.13.1)\n",
      "Requirement already satisfied: sympy in c:\\users\\mvswa\\reinforcement\\.venv\\lib\\site-packages (from torch>=1.13->stable-baselines3[extra]) (1.12)\n",
      "Requirement already satisfied: networkx in c:\\users\\mvswa\\reinforcement\\.venv\\lib\\site-packages (from torch>=1.13->stable-baselines3[extra]) (3.0)\n",
      "Requirement already satisfied: jinja2 in c:\\users\\mvswa\\reinforcement\\.venv\\lib\\site-packages (from torch>=1.13->stable-baselines3[extra]) (3.1.3)\n",
      "Requirement already satisfied: fsspec in c:\\users\\mvswa\\reinforcement\\.venv\\lib\\site-packages (from torch>=1.13->stable-baselines3[extra]) (2024.2.0)\n",
      "Requirement already satisfied: mkl<=2021.4.0,>=2021.1.1 in c:\\users\\mvswa\\reinforcement\\.venv\\lib\\site-packages (from torch>=1.13->stable-baselines3[extra]) (2021.4.0)\n",
      "Requirement already satisfied: contourpy>=1.0.1 in c:\\users\\mvswa\\reinforcement\\.venv\\lib\\site-packages (from matplotlib->stable-baselines3[extra]) (1.1.1)\n",
      "Requirement already satisfied: cycler>=0.10 in c:\\users\\mvswa\\reinforcement\\.venv\\lib\\site-packages (from matplotlib->stable-baselines3[extra]) (0.12.1)\n",
      "Requirement already satisfied: fonttools>=4.22.0 in c:\\users\\mvswa\\reinforcement\\.venv\\lib\\site-packages (from matplotlib->stable-baselines3[extra]) (4.53.0)\n",
      "Requirement already satisfied: kiwisolver>=1.0.1 in c:\\users\\mvswa\\reinforcement\\.venv\\lib\\site-packages (from matplotlib->stable-baselines3[extra]) (1.4.5)\n",
      "Requirement already satisfied: packaging>=20.0 in c:\\users\\mvswa\\reinforcement\\.venv\\lib\\site-packages (from matplotlib->stable-baselines3[extra]) (24.0)\n",
      "Requirement already satisfied: pyparsing>=2.3.1 in c:\\users\\mvswa\\reinforcement\\.venv\\lib\\site-packages (from matplotlib->stable-baselines3[extra]) (3.1.2)\n",
      "Requirement already satisfied: python-dateutil>=2.7 in c:\\users\\mvswa\\reinforcement\\.venv\\lib\\site-packages (from matplotlib->stable-baselines3[extra]) (2.9.0.post0)\n",
      "Requirement already satisfied: pytz>=2020.1 in c:\\users\\mvswa\\reinforcement\\.venv\\lib\\site-packages (from pandas->stable-baselines3[extra]) (2024.1)\n",
      "Requirement already satisfied: tzdata>=2022.1 in c:\\users\\mvswa\\reinforcement\\.venv\\lib\\site-packages (from pandas->stable-baselines3[extra]) (2024.1)\n",
      "Requirement already satisfied: markdown-it-py>=2.2.0 in c:\\users\\mvswa\\reinforcement\\.venv\\lib\\site-packages (from rich->stable-baselines3[extra]) (3.0.0)\n",
      "Requirement already satisfied: pygments<3.0.0,>=2.13.0 in c:\\users\\mvswa\\reinforcement\\.venv\\lib\\site-packages (from rich->stable-baselines3[extra]) (2.18.0)\n",
      "Requirement already satisfied: colorama in c:\\users\\mvswa\\reinforcement\\.venv\\lib\\site-packages (from tqdm->stable-baselines3[extra]) (0.4.6)\n",
      "Requirement already satisfied: cachetools<6.0,>=2.0.0 in c:\\users\\mvswa\\reinforcement\\.venv\\lib\\site-packages (from google-auth<3,>=1.6.3->tensorboard>=2.9.1->stable-baselines3[extra]) (5.3.3)\n",
      "Requirement already satisfied: pyasn1-modules>=0.2.1 in c:\\users\\mvswa\\reinforcement\\.venv\\lib\\site-packages (from google-auth<3,>=1.6.3->tensorboard>=2.9.1->stable-baselines3[extra]) (0.4.0)\n",
      "Requirement already satisfied: rsa<5,>=3.1.4 in c:\\users\\mvswa\\reinforcement\\.venv\\lib\\site-packages (from google-auth<3,>=1.6.3->tensorboard>=2.9.1->stable-baselines3[extra]) (4.9)\n",
      "Requirement already satisfied: requests-oauthlib>=0.7.0 in c:\\users\\mvswa\\reinforcement\\.venv\\lib\\site-packages (from google-auth-oauthlib<1.1,>=0.5->tensorboard>=2.9.1->stable-baselines3[extra]) (2.0.0)\n",
      "Requirement already satisfied: zipp>=0.5 in c:\\users\\mvswa\\reinforcement\\.venv\\lib\\site-packages (from importlib-metadata>=4.8.0->gymnasium<0.30,>=0.28.1->stable-baselines3[extra]) (3.19.2)\n",
      "Requirement already satisfied: mdurl~=0.1 in c:\\users\\mvswa\\reinforcement\\.venv\\lib\\site-packages (from markdown-it-py>=2.2.0->rich->stable-baselines3[extra]) (0.1.2)\n",
      "Requirement already satisfied: intel-openmp==2021.* in c:\\users\\mvswa\\reinforcement\\.venv\\lib\\site-packages (from mkl<=2021.4.0,>=2021.1.1->torch>=1.13->stable-baselines3[extra]) (2021.4.0)\n",
      "Requirement already satisfied: tbb==2021.* in c:\\users\\mvswa\\reinforcement\\.venv\\lib\\site-packages (from mkl<=2021.4.0,>=2021.1.1->torch>=1.13->stable-baselines3[extra]) (2021.11.0)\n",
      "Requirement already satisfied: six>=1.5 in c:\\users\\mvswa\\reinforcement\\.venv\\lib\\site-packages (from python-dateutil>=2.7->matplotlib->stable-baselines3[extra]) (1.16.0)\n",
      "Requirement already satisfied: charset-normalizer<4,>=2 in c:\\users\\mvswa\\reinforcement\\.venv\\lib\\site-packages (from requests->autorom~=0.6.1->autorom[accept-rom-license]~=0.6.1; extra == \"extra\"->stable-baselines3[extra]) (3.3.2)\n",
      "Requirement already satisfied: idna<4,>=2.5 in c:\\users\\mvswa\\reinforcement\\.venv\\lib\\site-packages (from requests->autorom~=0.6.1->autorom[accept-rom-license]~=0.6.1; extra == \"extra\"->stable-baselines3[extra]) (3.7)\n",
      "Requirement already satisfied: urllib3<3,>=1.21.1 in c:\\users\\mvswa\\reinforcement\\.venv\\lib\\site-packages (from requests->autorom~=0.6.1->autorom[accept-rom-license]~=0.6.1; extra == \"extra\"->stable-baselines3[extra]) (2.2.1)\n",
      "Requirement already satisfied: certifi>=2017.4.17 in c:\\users\\mvswa\\reinforcement\\.venv\\lib\\site-packages (from requests->autorom~=0.6.1->autorom[accept-rom-license]~=0.6.1; extra == \"extra\"->stable-baselines3[extra]) (2024.6.2)\n",
      "Requirement already satisfied: MarkupSafe>=2.1.1 in c:\\users\\mvswa\\reinforcement\\.venv\\lib\\site-packages (from werkzeug>=1.0.1->tensorboard>=2.9.1->stable-baselines3[extra]) (2.1.5)\n",
      "Requirement already satisfied: mpmath>=0.19 in c:\\users\\mvswa\\reinforcement\\.venv\\lib\\site-packages (from sympy->torch>=1.13->stable-baselines3[extra]) (1.3.0)\n",
      "Requirement already satisfied: pyasn1<0.7.0,>=0.4.6 in c:\\users\\mvswa\\reinforcement\\.venv\\lib\\site-packages (from pyasn1-modules>=0.2.1->google-auth<3,>=1.6.3->tensorboard>=2.9.1->stable-baselines3[extra]) (0.6.0)\n",
      "Requirement already satisfied: oauthlib>=3.0.0 in c:\\users\\mvswa\\reinforcement\\.venv\\lib\\site-packages (from requests-oauthlib>=0.7.0->google-auth-oauthlib<1.1,>=0.5->tensorboard>=2.9.1->stable-baselines3[extra]) (3.2.2)\n",
      "Note: you may need to restart the kernel to use updated packages.\n"
     ]
    }
   ],
   "source": [
    "%pip install stable-baselines3[extra]"
   ]
  },
  {
   "cell_type": "code",
   "execution_count": 8,
   "metadata": {},
   "outputs": [],
   "source": [
    "# Import os for file nav\n",
    "import os \n",
    "# Import callback class from sb3\n",
    "from stable_baselines3.common.callbacks import BaseCallback"
   ]
  },
  {
   "cell_type": "code",
   "execution_count": 9,
   "metadata": {},
   "outputs": [],
   "source": [
    "class TrainAndLoggingCallback(BaseCallback):\n",
    "\n",
    "    def __init__(self, check_freq, save_path, verbose=1):\n",
    "        super(TrainAndLoggingCallback, self).__init__(verbose)\n",
    "        self.check_freq = check_freq\n",
    "        self.save_path = save_path\n",
    "\n",
    "    def _init_callback(self):\n",
    "        if self.save_path is not None:\n",
    "            os.makedirs(self.save_path, exist_ok=True)\n",
    "\n",
    "    def _on_step(self):\n",
    "        if self.n_calls % self.check_freq == 0:\n",
    "            model_path = os.path.join(self.save_path, 'best_model_{}'.format(self.n_calls))\n",
    "            self.model.save(model_path)\n",
    "\n",
    "        return True"
   ]
  },
  {
   "cell_type": "code",
   "execution_count": 81,
   "metadata": {},
   "outputs": [],
   "source": [
    "CHECKPOINT_DIR = './train/train_basic'\n",
    "LOG_DIR = './logs/log_basic'"
   ]
  },
  {
   "cell_type": "code",
   "execution_count": 82,
   "metadata": {},
   "outputs": [],
   "source": [
    "callback = TrainAndLoggingCallback(check_freq=10000, save_path=CHECKPOINT_DIR)"
   ]
  },
  {
   "cell_type": "markdown",
   "metadata": {},
   "source": [
    "# 5. Train Model"
   ]
  },
  {
   "cell_type": "code",
   "execution_count": 7,
   "metadata": {},
   "outputs": [],
   "source": [
    "# import ppo for training\n",
    "from stable_baselines3 import PPO"
   ]
  },
  {
   "cell_type": "code",
   "execution_count": 84,
   "metadata": {},
   "outputs": [],
   "source": [
    "# Non rendered environment\n",
    "env = VizDoomGym()"
   ]
  },
  {
   "cell_type": "code",
   "execution_count": null,
   "metadata": {
    "tags": []
   },
   "outputs": [],
   "source": [
    "model = PPO('CnnPolicy', env, tensorboard_log=LOG_DIR, verbose=1, learning_rate=0.0001, n_steps=2048)"
   ]
  },
  {
   "cell_type": "code",
   "execution_count": null,
   "metadata": {
    "tags": []
   },
   "outputs": [],
   "source": [
    "model.learn(total_timesteps=100000)"
   ]
  },
  {
   "cell_type": "markdown",
   "metadata": {},
   "source": [
    "# 6. Test the Model"
   ]
  },
  {
   "cell_type": "code",
   "execution_count": 13,
   "metadata": {},
   "outputs": [],
   "source": [
    "# Import eval policy to test agent\n",
    "from stable_baselines3.common.evaluation import evaluate_policy"
   ]
  },
  {
   "cell_type": "code",
   "execution_count": 9,
   "metadata": {},
   "outputs": [
    {
     "name": "stderr",
     "output_type": "stream",
     "text": [
      "c:\\Users\\mvswa\\reinforcement\\.venv\\lib\\site-packages\\stable_baselines3\\common\\save_util.py:167: UserWarning: Could not deserialize object lr_schedule. Consider using `custom_objects` argument to replace this object.\n",
      "Exception: an integer is required (got type bytes)\n",
      "  warnings.warn(\n",
      "c:\\Users\\mvswa\\reinforcement\\.venv\\lib\\site-packages\\stable_baselines3\\common\\save_util.py:167: UserWarning: Could not deserialize object clip_range. Consider using `custom_objects` argument to replace this object.\n",
      "Exception: an integer is required (got type bytes)\n",
      "  warnings.warn(\n",
      "c:\\Users\\mvswa\\reinforcement\\.venv\\lib\\site-packages\\stable_baselines3\\common\\vec_env\\patch_gym.py:95: UserWarning: You loaded a model that was trained using OpenAI Gym. We strongly recommend transitioning to Gymnasium by saving that model again.\n",
      "  warnings.warn(\n",
      "c:\\Users\\mvswa\\reinforcement\\.venv\\lib\\site-packages\\stable_baselines3\\common\\base_class.py:751: UserWarning: You are probably loading a model saved with SB3 < 1.7.0, we deactivated exact_match so you can save the model again to avoid issues in the future (see https://github.com/DLR-RM/stable-baselines3/issues/1233 for more info). Original error: Error(s) in loading state_dict for ActorCriticCnnPolicy:\n",
      "\tMissing key(s) in state_dict: \"pi_features_extractor.cnn.0.weight\", \"pi_features_extractor.cnn.0.bias\", \"pi_features_extractor.cnn.2.weight\", \"pi_features_extractor.cnn.2.bias\", \"pi_features_extractor.cnn.4.weight\", \"pi_features_extractor.cnn.4.bias\", \"pi_features_extractor.linear.0.weight\", \"pi_features_extractor.linear.0.bias\", \"vf_features_extractor.cnn.0.weight\", \"vf_features_extractor.cnn.0.bias\", \"vf_features_extractor.cnn.2.weight\", \"vf_features_extractor.cnn.2.bias\", \"vf_features_extractor.cnn.4.weight\", \"vf_features_extractor.cnn.4.bias\", \"vf_features_extractor.linear.0.weight\", \"vf_features_extractor.linear.0.bias\".  \n",
      "Note: the model should still work fine, this only a warning.\n",
      "  warnings.warn(\n"
     ]
    }
   ],
   "source": [
    "# Reload model from disc\n",
    "model = PPO.load('saved_models\\\\vizdoom_saved_models\\\\Basic100k.zip')"
   ]
  },
  {
   "cell_type": "code",
   "execution_count": 16,
   "metadata": {},
   "outputs": [],
   "source": [
    "# Create rendered environment\n",
    "env = VizDoomGym(render=True)"
   ]
  },
  {
   "cell_type": "code",
   "execution_count": null,
   "metadata": {},
   "outputs": [],
   "source": [
    "# Evaluate mean reward for 10 games\n",
    "mean_reward, _ = evaluate_policy(model, env, n_eval_episodes=100)"
   ]
  },
  {
   "cell_type": "code",
   "execution_count": null,
   "metadata": {},
   "outputs": [],
   "source": [
    "mean_reward"
   ]
  },
  {
   "cell_type": "code",
   "execution_count": 13,
   "metadata": {},
   "outputs": [
    {
     "data": {
      "text/plain": [
       "(array(2, dtype=int64), None)"
      ]
     },
     "execution_count": 13,
     "metadata": {},
     "output_type": "execute_result"
    }
   ],
   "source": [
    "model.predict(obs)"
   ]
  },
  {
   "cell_type": "code",
   "execution_count": 17,
   "metadata": {},
   "outputs": [
    {
     "ename": "AttributeError",
     "evalue": "'NoneType' object has no attribute 'shape'",
     "output_type": "error",
     "traceback": [
      "\u001b[1;31m---------------------------------------------------------------------------\u001b[0m",
      "\u001b[1;31mAttributeError\u001b[0m                            Traceback (most recent call last)",
      "Cell \u001b[1;32mIn[17], line 7\u001b[0m\n\u001b[0;32m      5\u001b[0m \u001b[38;5;28;01mwhile\u001b[39;00m \u001b[38;5;129;01mnot\u001b[39;00m done: \n\u001b[0;32m      6\u001b[0m     action, _ \u001b[38;5;241m=\u001b[39m model\u001b[38;5;241m.\u001b[39mpredict(obs)\n\u001b[1;32m----> 7\u001b[0m     obs, reward, done, info \u001b[38;5;241m=\u001b[39m \u001b[43menv\u001b[49m\u001b[38;5;241;43m.\u001b[39;49m\u001b[43mstep\u001b[49m\u001b[43m(\u001b[49m\u001b[43maction\u001b[49m\u001b[43m)\u001b[49m\n\u001b[0;32m      8\u001b[0m     \u001b[38;5;66;03m# time.sleep(0.20)\u001b[39;00m\n\u001b[0;32m      9\u001b[0m     total_reward \u001b[38;5;241m+\u001b[39m\u001b[38;5;241m=\u001b[39m reward\n",
      "Cell \u001b[1;32mIn[5], line 37\u001b[0m, in \u001b[0;36mVizDoomGym.step\u001b[1;34m(self, action)\u001b[0m\n\u001b[0;32m     35\u001b[0m     info \u001b[38;5;241m=\u001b[39m ammo\n\u001b[0;32m     36\u001b[0m \u001b[38;5;28;01melse\u001b[39;00m: \n\u001b[1;32m---> 37\u001b[0m     state \u001b[38;5;241m=\u001b[39m np\u001b[38;5;241m.\u001b[39mzeros(\u001b[38;5;28;43mself\u001b[39;49m\u001b[38;5;241;43m.\u001b[39;49m\u001b[43mobservation_space\u001b[49m\u001b[38;5;241;43m.\u001b[39;49m\u001b[43mshape\u001b[49m)\n\u001b[0;32m     38\u001b[0m     info \u001b[38;5;241m=\u001b[39m \u001b[38;5;241m0\u001b[39m \n\u001b[0;32m     40\u001b[0m info \u001b[38;5;241m=\u001b[39m {\u001b[38;5;124m\"\u001b[39m\u001b[38;5;124minfo\u001b[39m\u001b[38;5;124m\"\u001b[39m:info}\n",
      "\u001b[1;31mAttributeError\u001b[0m: 'NoneType' object has no attribute 'shape'"
     ]
    }
   ],
   "source": [
    "for episode in range(100): \n",
    "    obs = env.reset()\n",
    "    done = False\n",
    "    total_reward = 0\n",
    "    while not done: \n",
    "        action, _ = model.predict(obs)\n",
    "        obs, reward, done, info = env.step(action)\n",
    "        # time.sleep(0.20)\n",
    "        total_reward += reward\n",
    "    print('Total Reward for episode {} is {}'.format(total_reward, episode))\n",
    "    time.sleep(2)"
   ]
  },
  {
   "cell_type": "code",
   "execution_count": 14,
   "metadata": {},
   "outputs": [],
   "source": [
    "env.close()"
   ]
  }
 ],
 "metadata": {
  "kernelspec": {
   "display_name": ".venv",
   "language": "python",
   "name": "python3"
  },
  "language_info": {
   "codemirror_mode": {
    "name": "ipython",
    "version": 3
   },
   "file_extension": ".py",
   "mimetype": "text/x-python",
   "name": "python",
   "nbconvert_exporter": "python",
   "pygments_lexer": "ipython3",
   "version": "3.8.0"
  }
 },
 "nbformat": 4,
 "nbformat_minor": 4
}
